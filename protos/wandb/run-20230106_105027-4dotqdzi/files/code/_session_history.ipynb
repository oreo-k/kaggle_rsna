{
 "cells": [
  {
   "cell_type": "code",
   "execution_count": 1,
   "id": "3265e8d7",
   "metadata": {},
   "outputs": [],
   "source": [
    "! pip install -qU \"python-gdcm\" pydicom pylibjpeg \"opencv-python-headless\""
   ]
  },
  {
   "cell_type": "code",
   "execution_count": 2,
   "id": "62bdce55",
   "metadata": {},
   "outputs": [],
   "source": [
    "# General Libraries\n",
    "import os\n",
    "import re\n",
    "import gc\n",
    "import cv2\n",
    "import wandb\n",
    "import random\n",
    "import math\n",
    "from glob import glob\n",
    "from tqdm import tqdm\n",
    "from pprint import pprint\n",
    "from time import time\n",
    "import datetime as dtime\n",
    "from datetime import datetime\n",
    "import itertools\n",
    "import warnings\n",
    "import pandas as pd\n",
    "import numpy as np\n",
    "import pydicom # for DICOM images\n",
    "from skimage.transform import resize\n",
    "from sklearn.preprocessing import LabelEncoder, normalize\n",
    "\n",
    "# For the Visuals\n",
    "import seaborn as sns\n",
    "import matplotlib as mpl\n",
    "from matplotlib import cm\n",
    "import matplotlib.patches as patches\n",
    "import matplotlib.pyplot as plt\n",
    "import matplotlib.image as mpimg\n",
    "from matplotlib.offsetbox import AnnotationBbox, OffsetImage\n",
    "from matplotlib.colors import ListedColormap, LinearSegmentedColormap\n",
    "from matplotlib.patches import Rectangle\n",
    "from IPython.display import display_html\n",
    "plt.rcParams.update({'font.size': 16})\n",
    "\n",
    "# Environment check\n",
    "warnings.filterwarnings(\"ignore\")\n",
    "os.environ[\"WANDB_SILENT\"] = \"true\"\n",
    "CONFIG = {'competition': 'RSNA_Breast_Cancer', '_wandb_kernel': 'aot'}\n",
    "\n",
    "# Custom colors\n",
    "class clr:\n",
    "    S = '\\033[1m' + '\\033[91m'\n",
    "    E = '\\033[0m'\n",
    "    \n",
    "my_colors = [\"#517664\", \"#73AA90\", \"#94DDBC\", \"#DAB06C\", \n",
    "             \"#DF928E\", \"#C97973\", \"#B25F57\"]\n",
    "CMAP1 = ListedColormap(my_colors)\n",
    "\n",
    "print(clr.S+\"Notebook Color Schemes:\"+clr.E)\n",
    "sns.palplot(sns.color_palette(my_colors))\n",
    "plt.show()"
   ]
  },
  {
   "cell_type": "code",
   "execution_count": 3,
   "id": "f9628e1b",
   "metadata": {},
   "outputs": [],
   "source": [
    "# 🐝 Secrets\n",
    "from kaggle_secrets import UserSecretsClient\n",
    "user_secrets = UserSecretsClient()\n",
    "secret_value_0 = user_secrets.get_secret(\"wandb\")\n",
    "\n",
    "! wandb login $secret_value_0"
   ]
  },
  {
   "cell_type": "code",
   "execution_count": 4,
   "id": "e8aad0a0",
   "metadata": {},
   "outputs": [],
   "source": [
    "# === General Functions ===\n",
    "\n",
    "def set_seed(seed = 1234):\n",
    "    '''Sets the seed of the entire notebook so results are the same every time we run.\n",
    "    This is for REPRODUCIBILITY.'''\n",
    "    np.random.seed(seed)\n",
    "    random.seed(seed)\n",
    "    torch.manual_seed(seed)\n",
    "    torch.cuda.manual_seed(seed)\n",
    "    # When running on the CuDNN backend, two further options must be set\n",
    "    torch.backends.cudnn.deterministic = True\n",
    "    # Set a fixed value for the hash seed\n",
    "    os.environ['PYTHONHASHSEED'] = str(seed)\n",
    "\n",
    "def show_values_on_bars(axs, h_v=\"v\", space=0.4):\n",
    "    '''Plots the value at the end of the a seaborn barplot.\n",
    "    axs: the ax of the plot\n",
    "    h_v: weather or not the barplot is vertical/ horizontal'''\n",
    "    \n",
    "    def _show_on_single_plot(ax):\n",
    "        if h_v == \"v\":\n",
    "            for p in ax.patches:\n",
    "                _x = p.get_x() + p.get_width() / 2\n",
    "                _y = p.get_y() + p.get_height()\n",
    "                value = int(p.get_height())\n",
    "                ax.text(_x, _y, format(value, ','), ha=\"center\") \n",
    "        elif h_v == \"h\":\n",
    "            for p in ax.patches:\n",
    "                _x = p.get_x() + p.get_width() + float(space)\n",
    "                _y = p.get_y() + p.get_height()\n",
    "                value = int(p.get_width())\n",
    "                ax.text(_x, _y, format(value, ','), ha=\"left\")\n",
    "\n",
    "    if isinstance(axs, np.ndarray):\n",
    "        for idx, ax in np.ndenumerate(axs):\n",
    "            _show_on_single_plot(ax)\n",
    "    else:\n",
    "        _show_on_single_plot(axs)\n",
    "        \n",
    "        \n",
    "# === 🐝 W&B ===\n",
    "def save_dataset_artifact(run_name, artifact_name, path, data_type=\"dataset\"):\n",
    "    '''Saves dataset to W&B Artifactory.\n",
    "    run_name: name of the experiment\n",
    "    artifact_name: under what name should the dataset be stored\n",
    "    path: path to the dataset'''\n",
    "    \n",
    "    run = wandb.init(project='Otto', \n",
    "                     name=run_name, \n",
    "                     config=CONFIG)\n",
    "    artifact = wandb.Artifact(name=artifact_name, \n",
    "                              type=data_type)\n",
    "    artifact.add_file(path)\n",
    "\n",
    "    wandb.log_artifact(artifact)\n",
    "    wandb.finish()\n",
    "    print(\"Artifact has been saved successfully.\")\n",
    "    \n",
    "    \n",
    "def create_wandb_plot(x_data=None, y_data=None, x_name=None, y_name=None, title=None, log=None, plot=\"line\"):\n",
    "    '''Create and save lineplot/barplot in W&B Environment.\n",
    "    x_data & y_data: Pandas Series containing x & y data\n",
    "    x_name & y_name: strings containing axis names\n",
    "    title: title of the graph\n",
    "    log: string containing name of log'''\n",
    "    \n",
    "    data = [[label, val] for (label, val) in zip(x_data, y_data)]\n",
    "    table = wandb.Table(data=data, columns = [x_name, y_name])\n",
    "    \n",
    "    if plot == \"line\":\n",
    "        wandb.log({log : wandb.plot.line(table, x_name, y_name, title=title)})\n",
    "    elif plot == \"bar\":\n",
    "        wandb.log({log : wandb.plot.bar(table, x_name, y_name, title=title)})\n",
    "    elif plot == \"scatter\":\n",
    "        wandb.log({log : wandb.plot.scatter(table, x_name, y_name, title=title)})\n",
    "        \n",
    "        \n",
    "def create_wandb_hist(x_data=None, x_name=None, title=None, log=None):\n",
    "    '''Create and save histogram in W&B Environment.\n",
    "    x_data: Pandas Series containing x values\n",
    "    x_name: strings containing axis name\n",
    "    title: title of the graph\n",
    "    log: string containing name of log'''\n",
    "    \n",
    "    data = [[x] for x in x_data]\n",
    "    table = wandb.Table(data=data, columns=[x_name])\n",
    "    wandb.log({log : wandb.plot.histogram(table, x_name, title=title)})"
   ]
  },
  {
   "cell_type": "code",
   "execution_count": 5,
   "id": "583b5a67",
   "metadata": {},
   "outputs": [],
   "source": [
    "# 🐝 Bonus: Cover Photo\n",
    "run = wandb.init(project='RSNA_Breast_Cancer', name='CoverPhoto', config=CONFIG)\n",
    "cover = plt.imread(\"/kaggle/input/rsna-breast-cancer-helper-data/DKn4ofz.png\")\n",
    "wandb.log({\"cover\": wandb.Image(cover)})\n",
    "wandb.finish()"
   ]
  },
  {
   "cell_type": "code",
   "execution_count": 6,
   "id": "4f4b1f3f",
   "metadata": {},
   "outputs": [],
   "source": [
    "train = pd.read_csv(\"/kaggle/input/rsna-breast-cancer-detection/train.csv\")\n",
    "\n",
    "# Get image path\n",
    "# Example path: '/kaggle/input/rsna-breast-cancer-detection/train_images/10706/763186195.dcm'\n",
    "base_path = \"/kaggle/input/rsna-breast-cancer-detection/train_images/\"\n",
    "all_paths = []\n",
    "for k in tqdm(range(len(train))):\n",
    "    row = train.iloc[k, :]\n",
    "    all_paths.append(base_path + str(row.patient_id) + \"/\" + str(row.image_id) + \".dcm\")\n",
    "    \n",
    "train[\"path\"] = all_paths"
   ]
  },
  {
   "cell_type": "code",
   "execution_count": 7,
   "id": "90169be6",
   "metadata": {},
   "outputs": [],
   "source": [
    "print(clr.S+\"Records gathered in Site 1:\"+clr.E, train[\"site_id\"].value_counts().values[0], \"\\n\"+\n",
    "      clr.S+\"Records gathered in Site 2:\"+clr.E, train[\"site_id\"].value_counts().values[1])\n",
    "print(\"-------------------------------------------------\")\n",
    "print(clr.S+\"Total unique patients:\"+clr.E, train[\"patient_id\"].nunique())\n",
    "print(\"-------------------------------------------------\")\n",
    "print(clr.S+\"Total unique images:\"+clr.E, train[\"image_id\"].nunique())\n",
    "print(\"-------------------------------------------------\")\n",
    "print(clr.S+\"Statistics: Images per Patient\"+clr.E)\n",
    "print(train.groupby(\"patient_id\")[\"image_id\"].count().reset_index().describe()[\"image_id\"])\n",
    "print(\"-------------------------------------------------\")\n",
    "print(clr.S+\"Image records count per laterality (R):\"+clr.E, train[\"laterality\"].value_counts().values[0], \"\\n\"+\n",
    "      clr.S+\"Image records count per laterality (L):\"+clr.E, train[\"laterality\"].value_counts().values[1])\n",
    "print(\"-------------------------------------------------\")\n",
    "print(clr.S+\"Image records count per View:\"+clr.E)\n",
    "print(train[\"view\"].value_counts())"
   ]
  },
  {
   "cell_type": "code",
   "execution_count": 8,
   "id": "9295d46c",
   "metadata": {},
   "outputs": [],
   "source": [
    "# 🐝 New Experiment\n",
    "run = wandb.init(project='RSNA_Breast_Cancer', name='view_sample', config=CONFIG)"
   ]
  },
  {
   "cell_type": "code",
   "execution_count": 9,
   "id": "8ff4c642",
   "metadata": {},
   "outputs": [],
   "source": [
    "def show_view(view_name, sample_size):\n",
    "    \n",
    "    if view_name != \"LMO\":\n",
    "        # Get image info\n",
    "        data = train[train[\"view\"]==view_name].sample(sample_size, random_state=24)\n",
    "        image_path = data[\"path\"].to_list()\n",
    "\n",
    "        # Plot\n",
    "        fig, axs = plt.subplots(1, sample_size, figsize=(23, 4))\n",
    "        axs = axs.flatten()\n",
    "        wandb_images = []\n",
    "\n",
    "        for k, path in enumerate(image_path):\n",
    "            axs[k].set_title(f\"{k+1}. {view_name}\", \n",
    "                             fontsize = 16, color = my_colors[0], weight='bold')\n",
    "\n",
    "            img = pydicom.dcmread(path).pixel_array\n",
    "            wandb_images.append(wandb.Image(img))\n",
    "            axs[k].imshow(img, cmap=\"turbo\")\n",
    "            axs[k].axis(\"off\")\n",
    "\n",
    "        plt.tight_layout()\n",
    "        plt.show()\n",
    "\n",
    "        # 🐝 Log Image to W&B\n",
    "        wandb.log({f\"{view_name}\": wandb_images})\n",
    "    else:\n",
    "        path = train[train[\"view\"]==\"LMO\"][\"path\"].item()\n",
    "        # Plot\n",
    "        fig, axs = plt.subplots(1, sample_size, figsize=(23, 4))\n",
    "        axs = axs.flatten()\n",
    "        wandb_images = []\n",
    "        img = pydicom.dcmread(path).pixel_array\n",
    "        wandb_images.append(wandb.Image(img))\n",
    "        axs[0].imshow(img, cmap=\"turbo\")\n",
    "        axs[0].set_title(f\"1. LMO\", \n",
    "                         fontsize = 16, color = my_colors[0], weight='bold')\n",
    "        axs[0].axis(\"off\")\n",
    "        axs[1].axis(\"off\")\n",
    "        axs[2].axis(\"off\")\n",
    "        axs[3].axis(\"off\")\n",
    "        axs[4].axis(\"off\")\n",
    "\n",
    "        plt.tight_layout()\n",
    "        plt.show()\n",
    "        \n",
    "        wandb.log({f\"LMO\": wandb_images})"
   ]
  },
  {
   "cell_type": "code",
   "execution_count": 10,
   "id": "1d0b6945",
   "metadata": {},
   "outputs": [],
   "source": [
    "for view_name in train[\"view\"].unique().tolist():\n",
    "    # Custom function to prin images & log into 🐝W&B\n",
    "    show_view(view_name, sample_size=5)"
   ]
  },
  {
   "cell_type": "code",
   "execution_count": 11,
   "id": "c11f1181",
   "metadata": {},
   "outputs": [],
   "source": [
    "wandb.finish()"
   ]
  },
  {
   "cell_type": "code",
   "execution_count": 12,
   "id": "c6710274",
   "metadata": {},
   "outputs": [],
   "source": [
    "# 🐝 New Experiment\n",
    "run = wandb.init(project='RSNA_Breast_Cancer', name='age_hist', config=CONFIG)"
   ]
  },
  {
   "cell_type": "code",
   "execution_count": 13,
   "id": "e94bfee3",
   "metadata": {},
   "outputs": [],
   "source": [
    "# Plot\n",
    "f, (a0, a1) = plt.subplots(2, 1, gridspec_kw={'height_ratios': [3, 1]}, figsize=(24, 15))\n",
    "sns.distplot(a=train[\"age\"], rug=True, hist=False, \n",
    "             rug_kws={\"color\": my_colors[5]},\n",
    "             kde_kws={\"color\": my_colors[5], \"lw\": 5, \"alpha\": 0.7},\n",
    "             ax=a0)\n",
    "\n",
    "a0.axvline(x=58, ls=\":\", lw=2, color=\"black\")\n",
    "a0.text(x=58.5, y=0.018, s=\"mean: 58\", size=17, color=\"black\", weight=\"bold\")\n",
    "a0.axvline(x=26, ls=\":\", lw=2, color=\"black\")\n",
    "a0.text(x=26.5, y=0.008, s=\"min: 26\", size=17, color=\"black\", weight=\"bold\")\n",
    "a0.axvline(x=89, ls=\":\", lw=2, color=\"black\")\n",
    "a0.text(x=84, y=0.037, s=\"max: 89\", size=17, color=\"black\", weight=\"bold\")\n",
    "\n",
    "sns.boxenplot(x=train[\"age\"], ax=a1, color=my_colors[2])\n",
    "\n",
    "plt.suptitle(\"Age Distribution\", weight=\"bold\", size=25)\n",
    "sns.despine(right=True, top=True, left=True);"
   ]
  },
  {
   "cell_type": "code",
   "execution_count": 14,
   "id": "c96c9ccc",
   "metadata": {},
   "outputs": [],
   "source": [
    "# 🐝 Log into dashboard\n",
    "create_wandb_hist(x_data=train[\"age\"], \n",
    "                  x_name=\"Age\",\n",
    "                  title=\"Age Distribution\",\n",
    "                  log=\"age_hist\")"
   ]
  },
  {
   "cell_type": "code",
   "execution_count": 15,
   "id": "2be7734b",
   "metadata": {},
   "outputs": [],
   "source": [
    "# Plot\n",
    "f, (a0, a1) = plt.subplots(1, 2, figsize=(24, 12))\n",
    "sns.distplot(a=train[train[\"cancer\"]==0][\"age\"], rug=True, hist=False, \n",
    "             rug_kws={\"color\": my_colors[5]},\n",
    "             kde_kws={\"color\": my_colors[5], \"lw\": 5, \"alpha\": 0.7},\n",
    "             ax=a0)\n",
    "a0.set_title(\"No Cancer Present\", weight=\"bold\", size=20)\n",
    "a0.axvline(x=58, ls=\":\", lw=2, color=\"black\")\n",
    "a0.text(x=58.5, y=0.018, s=\"mean: 58\", size=17, color=\"black\", weight=\"bold\")\n",
    "a0.axvline(x=26, ls=\":\", lw=2, color=\"black\")\n",
    "a0.text(x=26.5, y=0.008, s=\"min: 26\", size=17, color=\"black\", weight=\"bold\")\n",
    "a0.axvline(x=89, ls=\":\", lw=2, color=\"black\")\n",
    "a0.text(x=79, y=0.037, s=\"max: 89\", size=17, color=\"black\", weight=\"bold\")\n",
    "\n",
    "\n",
    "sns.distplot(a=train[train[\"cancer\"]==1][\"age\"], rug=True, hist=False, \n",
    "             rug_kws={\"color\": my_colors[2]},\n",
    "             kde_kws={\"color\": my_colors[2], \"lw\": 5, \"alpha\": 0.7},\n",
    "             ax=a1)\n",
    "a1.set_title(\"Cancer Present\", weight=\"bold\", size=20)\n",
    "a1.axvline(x=63, ls=\":\", lw=2, color=\"black\")\n",
    "a1.text(x=63.5, y=0.018, s=\"mean: 63\", size=17, color=\"black\", weight=\"bold\")\n",
    "a1.axvline(x=38, ls=\":\", lw=2, color=\"black\")\n",
    "a1.text(x=38.5, y=0.008, s=\"min: 38\", size=17, color=\"black\", weight=\"bold\")\n",
    "a1.axvline(x=89, ls=\":\", lw=2, color=\"black\")\n",
    "a1.text(x=79, y=0.037, s=\"max: 89\", size=17, color=\"black\", weight=\"bold\")\n",
    "\n",
    "\n",
    "plt.suptitle(\"Age Distribution\", weight=\"bold\", size=25)\n",
    "sns.despine(right=True, top=True, left=True);"
   ]
  },
  {
   "cell_type": "code",
   "execution_count": 16,
   "id": "8a8d8929",
   "metadata": {},
   "outputs": [],
   "source": [
    "# 🐝 Log into dashboard\n",
    "create_wandb_hist(x_data=train[train[\"cancer\"]==1][\"age\"], \n",
    "                  x_name=\"Age\",\n",
    "                  title=\"Age Distribution - patients with cancer\",\n",
    "                  log=\"age_hist_cancer\")"
   ]
  },
  {
   "cell_type": "code",
   "execution_count": 17,
   "id": "a1c4aa71",
   "metadata": {},
   "outputs": [],
   "source": [
    "wandb.finish()"
   ]
  },
  {
   "cell_type": "code",
   "execution_count": 18,
   "id": "2f829dae",
   "metadata": {},
   "outputs": [],
   "source": [
    "# 🐝 New Experiment\n",
    "run = wandb.init(project='RSNA_Breast_Cancer', name='implant_sample', config=CONFIG)"
   ]
  },
  {
   "cell_type": "code",
   "execution_count": 19,
   "id": "8789a9a7",
   "metadata": {},
   "outputs": [],
   "source": [
    "def show_images(col, col_flag, sample_size, cancer_flag=0):\n",
    "    \n",
    "    # Get image info\n",
    "    data = train[train[col]==col_flag].sample(sample_size, random_state=24)\n",
    "    if cancer_flag==1:\n",
    "        data = train[train.cancer==1]\n",
    "        data = data[data[col]==col_flag].sample(sample_size, random_state=24)\n",
    "    image_path = data[\"path\"].to_list()\n",
    "\n",
    "    # Plot\n",
    "    fig, axs = plt.subplots(1, sample_size, figsize=(23, 4))\n",
    "    axs = axs.flatten()\n",
    "    wandb_images = []\n",
    "\n",
    "    for k, path in enumerate(image_path):\n",
    "        axs[k].set_title(f\"{k+1}. {col_flag}\", \n",
    "                         fontsize = 14, color = my_colors[0], weight='bold')\n",
    "\n",
    "        img = pydicom.dcmread(path).pixel_array\n",
    "        wandb_images.append(wandb.Image(img))\n",
    "        axs[k].imshow(img, cmap=\"turbo\")\n",
    "        axs[k].axis(\"off\")\n",
    "\n",
    "    plt.tight_layout()\n",
    "    plt.show()\n",
    "\n",
    "    # 🐝 Log Image to W&B\n",
    "    wandb.log({f\"{col}_{col_flag}\": wandb_images})"
   ]
  },
  {
   "cell_type": "code",
   "execution_count": 20,
   "id": "d3fc2c8d",
   "metadata": {},
   "outputs": [],
   "source": [
    "print(clr.S+\"Records with no implants:\"+clr.E, train[\"implant\"].value_counts().values[0], \"\\n\"+\n",
    "      clr.S+\"Records with implants:\"+clr.E, train[\"implant\"].value_counts().values[1], \"\\n\")\n",
    "\n",
    "for implant_flag in train[\"implant\"].unique().tolist():\n",
    "    # Custom function to prin images & log into 🐝W&B\n",
    "    show_images(col=\"implant\", col_flag=implant_flag, sample_size=5)"
   ]
  },
  {
   "cell_type": "code",
   "execution_count": 21,
   "id": "2ebe7927",
   "metadata": {},
   "outputs": [],
   "source": [
    "wandb.finish()"
   ]
  },
  {
   "cell_type": "code",
   "execution_count": 22,
   "id": "3eed5f7b",
   "metadata": {},
   "outputs": [],
   "source": [
    "# 🐝 New Experiment\n",
    "run = wandb.init(project='RSNA_Breast_Cancer', name='cancer_explore', config=CONFIG)"
   ]
  },
  {
   "cell_type": "code",
   "execution_count": 23,
   "id": "cff08d8c",
   "metadata": {},
   "outputs": [],
   "source": [
    "print(clr.S+\"Records with no cancer:\"+clr.E, train[\"cancer\"].value_counts().values[0], \"\\n\"+\n",
    "      clr.S+\"Records with cancer:\"+clr.E, train[\"cancer\"].value_counts().values[1], \"\\n\")\n",
    "\n",
    "for cancer_flag in train[\"cancer\"].unique().tolist():\n",
    "    # Custom function to prin images & log into 🐝W&B\n",
    "    show_images(col=\"cancer\", col_flag=cancer_flag, sample_size=5)"
   ]
  },
  {
   "cell_type": "code",
   "execution_count": 24,
   "id": "2caef52e",
   "metadata": {},
   "outputs": [],
   "source": [
    "print(clr.S+\"Records with invasion:\"+clr.E, train[train.cancer==1][\"invasive\"].value_counts().values[0], \"\\n\"+\n",
    "      clr.S+\"Records with no invasion:\"+clr.E, train[train.cancer==1][\"invasive\"].value_counts().values[1], \"\\n\")\n",
    "\n",
    "for invasive_flag in train[\"invasive\"].unique().tolist():\n",
    "    # Custom function to prin images & log into 🐝W&B\n",
    "    show_images(col=\"invasive\", col_flag=invasive_flag, sample_size=5, cancer_flag=1)"
   ]
  },
  {
   "cell_type": "code",
   "execution_count": 25,
   "id": "9b6f6939",
   "metadata": {},
   "outputs": [],
   "source": [
    "print(clr.S+\"Cases not particularly difficult:\"+clr.E, train[\"difficult_negative_case\"].value_counts().values[0], \"\\n\"+\n",
    "      clr.S+\"Cases particularly difficult:\"+clr.E, train[\"difficult_negative_case\"].value_counts().values[1], \"\\n\")\n",
    "\n",
    "for difficult_flag in train[\"difficult_negative_case\"].unique().tolist():\n",
    "    # Custom function to prin images & log into 🐝W&B\n",
    "    show_images(col=\"difficult_negative_case\", col_flag=difficult_flag, sample_size=5, cancer_flag=0)"
   ]
  },
  {
   "cell_type": "code",
   "execution_count": 26,
   "id": "35daa2ed",
   "metadata": {},
   "outputs": [],
   "source": [
    "wandb.finish()"
   ]
  },
  {
   "cell_type": "code",
   "execution_count": 27,
   "id": "028b23cb",
   "metadata": {},
   "outputs": [
    {
     "name": "stdout",
     "output_type": "stream",
     "text": [
      "   patient_id    image_id  laterality  view   age  implant  \\\n",
      "0       10006   462822612           0     1  61.0        0   \n",
      "1       10006  1459541791           0     5  61.0        0   \n",
      "2       10006  1864590858           1     5  61.0        0   \n",
      "3       10006  1874946579           1     1  61.0        0   \n",
      "4       10011   220375232           0     1  55.0        0   \n",
      "\n",
      "                                                path  cancer  \n",
      "0  /kaggle/input/rsna-breast-cancer-detection/tra...       0  \n",
      "1  /kaggle/input/rsna-breast-cancer-detection/tra...       0  \n",
      "2  /kaggle/input/rsna-breast-cancer-detection/tra...       0  \n",
      "3  /kaggle/input/rsna-breast-cancer-detection/tra...       0  \n",
      "4  /kaggle/input/rsna-breast-cancer-detection/tra...       0  "
     ]
    }
   ],
   "source": [
    "# Keep only columns in test + target variable\n",
    "train = train[[\"patient_id\", \"image_id\", \"laterality\", \"view\", \"age\", \"implant\", \"path\", \"cancer\"]]\n",
    "\n",
    "# Encode categorical variables\n",
    "le_laterality = LabelEncoder()\n",
    "le_view = LabelEncoder()\n",
    "\n",
    "train['laterality'] = le_laterality.fit_transform(train['laterality'])\n",
    "train['view'] = le_view.fit_transform(train['view'])\n",
    "\n",
    "train.head()"
   ]
  },
  {
   "cell_type": "code",
   "execution_count": 28,
   "id": "bf8724ce",
   "metadata": {},
   "outputs": [],
   "source": [
    "print(clr.S+\"Number of missing values in Age:\"+clr.E, train[\"age\"].isna().sum())\n",
    "train['age'] = train['age'].fillna(58)"
   ]
  },
  {
   "cell_type": "code",
   "execution_count": 29,
   "id": "ad4a9ea9",
   "metadata": {},
   "outputs": [],
   "source": [
    "# Save new dataset\n",
    "train.to_csv(\"train_path.csv\", index=False)\n",
    "\n",
    "# 🐝 Save Artifacts\n",
    "save_dataset_artifact(run_name=\"save_train_prep\", \n",
    "                      artifact_name=\"train_prep\",\n",
    "                      path=\"/kaggle/input/rsna-breast-cancer-helper-data/train_path.csv\",\n",
    "                      data_type=\"dataset\")"
   ]
  }
 ],
 "metadata": {
  "kernelspec": {
   "display_name": "Python 3",
   "language": "python",
   "name": "python3"
  },
  "language_info": {
   "codemirror_mode": {
    "name": "ipython",
    "version": 3
   },
   "file_extension": ".py",
   "mimetype": "text/x-python",
   "name": "python",
   "nbconvert_exporter": "python",
   "pygments_lexer": "ipython3",
   "version": "3.7.12"
  }
 },
 "nbformat": 4,
 "nbformat_minor": 5
}
